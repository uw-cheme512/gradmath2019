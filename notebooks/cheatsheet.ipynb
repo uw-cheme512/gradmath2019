{
 "cells": [
  {
   "cell_type": "markdown",
   "metadata": {},
   "source": [
    "# First Order Linear ODEs"
   ]
  },
  {
   "cell_type": "markdown",
   "metadata": {},
   "source": [
    "#### Integrating Factor:\n",
    "\n",
    "$$\\frac{dy}{dt} + p(t)y = g(t) $$ <br>\n",
    "\n",
    "$$\\mu(t)y(t) = \\int{\\mu(t)g(t)dt} + c \\text{ where } \\mu(t) = e^{\\int{p(t)dt}}$$\n",
    "\n",
    "#### Theorems of Validity\n",
    "\n",
    "$$y'(t) + p(t)y = g(t), y(t) = y_0 $$ <br>\n",
    "\n",
    "If p(t) and g(t) are continuous in $\\alpha < t < \\beta$ and interval contains $t_0$, then there is a unique solution on that interval.\n",
    "\n",
    "$$y' = f(t,y) $$\n",
    "\n",
    "If f(t,y) and $\\frac{\\partial f}{\\partial y}$ are continuous in some rectangle containing $(t_0, y_0)$ then there is a unique solution."
   ]
  },
  {
   "cell_type": "markdown",
   "metadata": {},
   "source": [
    "# Non-linear First Order ODEs\n",
    "\n",
    "#### Separable\n",
    "\n",
    "$$N(y)\\frac{dy}{dx} = M(x)$$\n",
    "\n",
    "#### Exact\n",
    "\n",
    "$$M(x,y) + N(x,y)\\frac{dy}{dx} = 0 \\text{ where } \\frac{\\partial f}{\\partial x} = M(x,y) \\text{ and } \\frac{\\partial f}{\\partial y} = N(x,y)$$ <br>\n",
    "\n",
    "$$f(x,y) = c $$\n",
    "\n",
    "#### Bernoulli\n",
    "\n",
    "$$y' + p(x)y = q(x)y^n \\text{ substitute } v = y^{1 - n} \\text{ to get }$$ <br>\n",
    "\n",
    "$$\\frac{1}{1 - n}v' +p(x)v = q(x) $$\n",
    "\n",
    "Solve by integrating factor method.\n",
    "\n",
    "#### Other substitutions\n",
    "\n",
    "$$y' = F\\bigg(\\frac{y}{x}\\bigg) $$ <br>\n",
    "\n",
    "$$\\text{Substitute } v(x) = \\frac{y}{x} \\text{ to get } \\frac{dv}{F(v) - v} = \\frac{dx}{x}$$\n",
    "\n",
    "$$y' = G(ax + by) $$ <br>\n",
    "\n",
    "$$\\text{Substitute } v(x) = ax + by \\text{ to get } \\frac{dv}{a + bG(v)} = dx$$"
   ]
  },
  {
   "cell_type": "markdown",
   "metadata": {},
   "source": [
    "# Homogeneous 2nd Order ODEs"
   ]
  },
  {
   "cell_type": "markdown",
   "metadata": {},
   "source": [
    "#### Characteristic equation\n",
    "\n",
    "$$ ay'' + by' + cy = 0$$\n",
    "\n",
    "real, distinct roots ($r_1 \\neq r_2 $): $y(t) = c_1e^{r_1t} + c_2e^{r_2t}$ <br>\n",
    "complex roots ($r_{1,2} = \\lambda \\pm \\mu i$): $y(t) = c_1e^{\\lambda t}\\cos{\\mu t} + c_2e^{\\lambda t}\\sin{\\mu t}$ <br>\n",
    "double root ($r_1 = r_2 = r$): $y(t) = c_1e^{rt} + c_2te^{rt}$"
   ]
  },
  {
   "cell_type": "markdown",
   "metadata": {},
   "source": [
    "# Non-homogeneous 2nd Order ODEs with constant coefs"
   ]
  },
  {
   "cell_type": "markdown",
   "metadata": {},
   "source": [
    "$$y''(t) + p(t)y'(t) + q(t)y = g(t)$$\n",
    "\n",
    "$$y(t) = t_c(t) + y_p(t)$$\n",
    "\n",
    "#### Particular Solutions\n",
    "\n",
    "#### Undetermined Coefficients\n",
    "\n",
    "Guess $y_p(t)$ based on the form of g(t) then plug into complementary solution to solve.\n",
    "\n",
    "|$g(t)$|$y_p(t) guess$|\n",
    "| ----- | ---------- |\n",
    "|$ae^{\\beta t}$|$Ae^{\\beta t}$|\n",
    "|$a \\cos(\\beta t)$|$A\\cos{\\beta t} + B\\sin{\\beta t}$|\n",
    "|$a \\sin(\\beta t)$|$A\\cos{\\beta t} + B\\sin{\\beta t}$|\n",
    "|$n^{th}$ polynomial| $A_nt^n + A_{n-1}t^{n-1} ... A_1t + A_0$|\n",
    "\n",
    "#### Variation of Parameters\n",
    "\n",
    "Given,\n",
    "$$y_c(t) = c_1y_1(t) + c_2y_2(t)$$ <br>\n",
    "\n",
    "$$y_p(t) = y_1u_1 + y_2u_2, \\text{ where} $$ <br>\n",
    "\n",
    "$$u_1 = -\\int{\\frac{y_2g(t)}{W(y_1,y_2)}dt}, u_2 = \\int{\\frac{y_1g(t)}{W(y_1,y_2)}}, \\text{ where}$$ <br>\n",
    "\n",
    "$$W(y_1,y_2) = y_1y'_2 - y_2y'_1 $$"
   ]
  },
  {
   "cell_type": "markdown",
   "metadata": {},
   "source": [
    "# System of Linear First-Order ODEs"
   ]
  },
  {
   "cell_type": "markdown",
   "metadata": {},
   "source": [
    "$$\\overrightarrow{X}' = A\\overrightarrow{X} + \\overrightarrow{b}(t)$$\n",
    "\n",
    "#### Eigenvalues method\n",
    "\n",
    "real, distinct eigenvalues: $\\overrightarrow{X}(t) = c_1e^{\\lambda_1t}\\overrightarrow{\\eta}^{(1)} + c_2e^{\\lambda_2t}\\overrightarrow{\\eta}^{(2)} $ <br>\n",
    "\n",
    "complex eigenvalues: Plug into the euqation above and simplify with $e^{i \\theta} = \\cos{\\theta} + i \\sin{\\theta}$ <br>\n",
    "\n",
    "double eigenvalues: $\\overrightarrow{X} = c_1e^{\\lambda t}\\overrightarrow{\\eta} + c_2(t e_{\\lambda t} \\overrightarrow{\\eta} + e^{\\lambda t} \\overrightarrow{\\rho}) \\text{ where } (A - \\lambda I)\\overrightarrow{\\rho} = \\overrightarrow{\\eta}$\n",
    "\n",
    "#### Undetermined coefficients\n",
    "\n",
    "Coefficients are vectors now.\n",
    "\n",
    "#### Variation of parameters\n",
    "\n",
    "Given $\\overrightarrow{X}$ is a solution:\n",
    "\n",
    "$$\\overrightarrow{X_P} = X\\int{X^{-1}\\overrightarrow{b}dt} $$\n",
    "\n",
    "#### Matrix exponential method\n",
    "\n",
    "$$\\overrightarrow{X} = e^{At}(Y_0 + A^{-1}b) - A^{-1}b \\text{ where}$$ <br>\n",
    "\n",
    "$$e^{At} = SDS^{-1} \\text{ where}$$\n",
    "\n",
    "S is the matrix of eigenvectors and D is the diagonal exponential matrix of eigenvalues."
   ]
  },
  {
   "cell_type": "markdown",
   "metadata": {},
   "source": [
    "# Homogeneous 2nd Order ODEs with non-constant coefs "
   ]
  },
  {
   "cell_type": "markdown",
   "metadata": {},
   "source": [
    "#### Euler equations\n",
    "\n",
    "$$ax^2y'' + bxy' + cy = 0, \\text{ solve}$$ <br>\n",
    "\n",
    "$$ar(r-1) + b(r) + c = 0 $$\n",
    "\n",
    "real, distinct roots: $y(x) = c_1x^{r_1} + c_2x^{r_2} $ <br>\n",
    "double roots: $y(x) = x^r(c_1 + c_2\\ln{x}) $ <br>\n",
    "complex roots: $y(x) = c_1x^{\\lambda}\\cos{\\mu \\ln{x}} + c_2x^{\\lambda}\\sin{\\mu \\ln{x}}$\n",
    "\n",
    "#### Bessel Functions\n",
    "\n",
    "$$x^2y'' + xy' + (x^2 - \\alpha^2)y = 0 $$ <br>\n",
    "\n",
    "$$y(x) = c_1J_{\\alpha}(x) + c_2Y_{\\alpha}(x)$$\n",
    "\n",
    "#### Spherical Bessel Functions\n",
    "\n",
    "$$x^2y'' + 2xy' + (x^2 - n(n+1))y = 0 $$ <br>\n",
    "\n",
    "$$y(x) = c_1j_{n}(x) + c_2y_{n}(x)$$\n",
    "\n",
    "#### Modified Bessel Functions\n",
    "\n",
    "$$x^2y'' + xy' + (x^2 + \\alpha^2)y = 0 $$ <br>\n",
    "\n",
    "$$y(x) = c_1I_{\\alpha}(x) + c_2K_{\\alpha}(x)$$"
   ]
  },
  {
   "cell_type": "markdown",
   "metadata": {},
   "source": [
    "# First Order PDEs\n",
    "\n",
    "#### Kinematic Wave Equations\n",
    "\n",
    "$$\\frac{\\partial y}{\\partial t} + \\frac{\\partial \\Phi}{\\partial x} = 0 $$\n",
    "\n",
    "Substitute $\\Phi = \\Phi(y)$ \n",
    "\n",
    "$$\\frac{\\partial y}{\\partial t} + c\\frac{\\partial y}{\\partial x} = 0, c = \\frac{d \\Phi}{dy} $$\n",
    "\n",
    "#### Characteristic Curves: Homogeneous Quasilinear Equations with Constant Coefficients\n",
    "\n",
    "$$P(z,x,y)\\frac{\\partial z}{\\partial x} + Q(z,x,y)\\frac{\\partial z}{\\partial y} = R(z,x,y) $$\n",
    "\n",
    "with IC $z = z^0(x,y)$ along the curve $I^0$: $y = y^0(x)$\n",
    "\n",
    "Express IC as a parametric equation:\n",
    "\n",
    "$$x = \\xi, y = y^0(\\xi), z = z^0(\\xi) $$\n",
    "\n",
    "The solution surface is represented in parametric form:\n",
    "\n",
    "$$\\frac{dz}{ds} = \\frac{\\partial z}{\\partial x}\\frac{dx}{ds} + \\frac{\\partial z}{ \\partial y}\\frac{dy}{ds} $$\n",
    "\n",
    "with\n",
    "\n",
    "$$\\frac{dx}{ds} = P(z,x,y), \\frac{dy}{ds} = Q(z,x,y), \\frac{dz}{ds} = R(z,x,y) $$"
   ]
  },
  {
   "cell_type": "markdown",
   "metadata": {},
   "source": [
    "# Second Order PDE Examples"
   ]
  },
  {
   "cell_type": "markdown",
   "metadata": {},
   "source": [
    "#### Heat Equation\n",
    "\n",
    "$$\\frac{\\partial u}{\\partial t} = k \\frac{\\partial^2 u}{\\partial x^2}, u(x, 0) = f(x), u(0, t) = 0, u(L,t) =  0$$ <br>\n",
    "\n",
    "Separation of variables, reduces PDE to two ODEs\n",
    "\n",
    "$$u(x,t) = \\Phi(x) G(t) $$ <br>\n",
    "\n",
    "$$\\frac{1}{kG} \\frac{dG}{dt} = \\frac{1}{\\Phi} \\frac{d^2 \\Phi}{dx^2} $$\n",
    "\n",
    "Solve and sum over all POSSIBLE solutions:\n",
    "\n",
    "$$u(x, t) = \\sum_{n=1}^{\\infty}{B_n\\sin{\\frac{n \\pi x}{L} e^{-k ( \\frac{n \\pi}{L} )^2t}}} \\text{ where}$$\n",
    "\n",
    "$$B_n = \\frac{2}{L} \\int_{0}^{L}{f(x)\\sin{\\frac{n \\pi x}{L}}dx} $$"
   ]
  },
  {
   "cell_type": "markdown",
   "metadata": {},
   "source": [
    "#### Substitution\n",
    "\n",
    "$$A(x,y)\\frac{\\partial^2 z}{\\partial x^2} + B(x,y)\\frac{\\partial^2 z}{\\partial x \\partial y} + C(x,y)\\frac{\\partial^2 z}{\\partial y^2} = 0$$ <br>\n",
    "\n",
    "Find a solution with the non-linear change of variables:\n",
    "\n",
    "$$\\xi = \\xi(x,y), \\eta = \\eta(x,y), \\text{ such that}$$ <br>\n",
    "\n",
    "$$D(x,y)\\frac{\\partial^2 z}{\\partial \\xi \\partial \\eta} =0$$ <br>\n",
    "\n",
    "In order for extra terms to vanish, the following must be satisfied:\n",
    "\n",
    "$$A \\bigg( \\frac{dy}{dx} \\bigg)^2_{\\xi} - B \\bigg( \\frac{dy}{dx} \\bigg)^2_{\\xi} + C = 0 $$ <br>\n",
    "\n",
    "$$A \\bigg( \\frac{dy}{dx} \\bigg)^2_{\\eta} - B \\bigg( \\frac{dy}{dx} \\bigg)^2_{\\eta} + C = 0 $$ <br>\n",
    "\n",
    "If $B^2 - 4AC >0$, then the PDE is *hyperbolic*:\n",
    "\n",
    "$$\\frac{\\partial^2 z}{\\partial \\xi \\partial \\eta} = 0$$ <br>\n",
    "\n",
    "If $B^2 - 4AC = 0$, then the PDE is *parabolic*:\n",
    "\n",
    "$$\\frac{\\partial^2 z}{ \\partial \\eta^2} = 0$$ <br>\n",
    "\n",
    "If $B^2 - 4AC < 0$, then the PDE is *elliptic*:\n",
    "\n",
    "$$\\frac{\\partial^2 z}{\\partial \\xi^2} + \\frac{\\partial^2 z}{\\partial \\eta^2} = 0$$"
   ]
  },
  {
   "cell_type": "code",
   "execution_count": null,
   "metadata": {},
   "outputs": [],
   "source": []
  }
 ],
 "metadata": {
  "kernelspec": {
   "display_name": "Python 3",
   "language": "python",
   "name": "python3"
  },
  "language_info": {
   "codemirror_mode": {
    "name": "ipython",
    "version": 3
   },
   "file_extension": ".py",
   "mimetype": "text/x-python",
   "name": "python",
   "nbconvert_exporter": "python",
   "pygments_lexer": "ipython3",
   "version": "3.7.0"
  }
 },
 "nbformat": 4,
 "nbformat_minor": 2
}
