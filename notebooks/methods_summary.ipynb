{
 "cells": [
  {
   "cell_type": "markdown",
   "metadata": {},
   "source": [
    "Let's see how many different ways we can solve a single differential equation.\n",
    "\n",
    "As an example, let's try the convective diffusion problem:\n",
    "\n",
    "$$\\frac{d^2c}{dx^2} - Pe\\frac{dc}{dx} = 0, c(0)=1, c(1)=0$$\n",
    "\n",
    "Giving the equation a quick glance, we can classify the problem as a homogeneous linear second-order ODE BVP."
   ]
  },
  {
   "cell_type": "markdown",
   "metadata": {},
   "source": [
    "# Characteristic Equation"
   ]
  },
  {
   "cell_type": "markdown",
   "metadata": {},
   "source": [
    "To find the undetermined coefficients solution, write out the characteristic equation:\n",
    "\n",
    "$$r^2 - Per = 0 $$\n",
    "\n",
    "The roots of the characteristic equation are r = 0, Pe. This gives us the general solution:\n",
    "\n",
    "$$c = c_1 + c_2 e^{Pex} $$\n",
    "\n",
    "Plugging in our two initial conditions, we find the following values for $c_1$ and $c_2$:\n",
    "\n",
    "$$c_1 = \\frac{-e^{Pe}}{1 - e^{Pe}}, c_2 = \\frac{1}{1 - e^{Pe}} $$\n",
    "\n",
    "This gives the final solution:\n",
    "\n",
    "$$c = \\frac{e^{Pe} - e^{Pex}}{e^{Pe} - 1} $$"
   ]
  },
  {
   "cell_type": "markdown",
   "metadata": {},
   "source": [
    "# Exponential Matrix"
   ]
  },
  {
   "cell_type": "markdown",
   "metadata": {},
   "source": [
    "Rewrite the equation of a system of linear ODEs:\n",
    "\n",
    "$$Y_1 = c, Y_2 = \\frac{dc}{dx}$$ <br>\n",
    "$$(1) \\frac{dc}{dx} = Y_2 $$ <br>\n",
    "$$(2) \\frac{d^2c}{dx^2} = PeY_2$$"
   ]
  },
  {
   "cell_type": "markdown",
   "metadata": {},
   "source": [
    "Rewrite the system of equations in matrix form:\n",
    "\n",
    "$$\\frac{d\\textbf{Y}}{dx} = \n",
    "  \\left[ {\\begin{array}{cc}\n",
    "   0 & 1\\\\\n",
    "   0 & Pe\\\\\n",
    "  \\end{array} } \\right]\n",
    "  \\left[ {\\begin{array}{c}\n",
    "   Y_1\\\\\n",
    "   Y_2\\\\\n",
    "  \\end{array} } \\right]$$"
   ]
  },
  {
   "cell_type": "markdown",
   "metadata": {},
   "source": [
    "Solving for the eigenvalues gives $\\lambda = 0, Pe$. To solve for the eigenvectors,\n",
    "\n",
    "$\\lambda=0$:\n",
    "\n",
    "$$\\left[ {\\begin{array}{cc}\n",
    "   0 & 1\\\\\n",
    "   0 & Pe\\\\\n",
    "  \\end{array} } \\right]\n",
    "  \\left[ {\\begin{array}{c}\n",
    "   X\\\\\n",
    "   Y\\\\\n",
    "  \\end{array} } \\right]\n",
    "$$\n",
    "\n",
    "Setting X=1 gives Y=0. This gives the eigenvector $\\bigg( \\begin{array}{c}\n",
    "  1\\\\\n",
    "  0\\\\\n",
    "  \\end{array} \\bigg) $\n",
    "  \n",
    "$\\lambda=Pe$:\n",
    "\n",
    "$$\\left[ {\\begin{array}{cc}\n",
    "   -Pe & 1\\\\\n",
    "   0 & 0\\\\\n",
    "  \\end{array} } \\right]\n",
    "  \\left[ {\\begin{array}{c}\n",
    "   X\\\\\n",
    "   Y\\\\\n",
    "  \\end{array} } \\right]\n",
    "$$\n",
    "\n",
    "Setting X=1 gives Y=Pe. This gives the eigenvector $\\bigg( \\begin{array}{c}\n",
    "  1\\\\\n",
    "  Pe\\\\\n",
    "  \\end{array} \\bigg) $"
   ]
  },
  {
   "cell_type": "markdown",
   "metadata": {},
   "source": [
    "The matrix exponential is found via the equation $e^{At} = SDS^{-1}$, where S is the matrix made of the eigenvectors and D is the diagonal exponential matrix of eigenvalues:\n",
    "\n",
    "\n",
    "$$S = \n",
    "   \\left[ {\\begin{array}{cc}\n",
    "   1 & 1\\\\\n",
    "   Pe & 0\\\\\n",
    "  \\end{array} } \\right],\n",
    "  D = \n",
    "  \\left[ {\\begin{array}{cc}\n",
    "   e^{Pex} & 0\\\\\n",
    "   0 & 1\\\\\n",
    "  \\end{array} } \\right],\n",
    "  S^{-1} = \\frac{1}{Pe}\n",
    "  \\left[ {\\begin{array}{cc}\n",
    "   0 & 1\\\\\n",
    "   Pe & -1\\\\\n",
    "  \\end{array} } \\right]\n",
    "$$ <br>\n",
    "\n",
    "$$SD = \n",
    "   \\left[ {\\begin{array}{cc}\n",
    "   1 & 1\\\\\n",
    "   Pe & 0\\\\\n",
    "  \\end{array} } \\right]\n",
    "  \\left[ {\\begin{array}{cc}\n",
    "   e^{Pex} & 0\\\\\n",
    "   0 & 1\\\\\n",
    "  \\end{array} } \\right] = \n",
    "  \\left[ {\\begin{array}{cc}\n",
    "   e^{Pex} & 1\\\\\n",
    "   Pee^{Pex} & 0\\\\\n",
    "  \\end{array} } \\right]\n",
    "$$ <br>\n",
    "\n",
    "$$SDS^{-1} = \\frac{1}{Pe}\n",
    "   \\left[ {\\begin{array}{cc}\n",
    "   e^{Pex} & 1\\\\\n",
    "   Pee^{Pex} & 0\\\\\n",
    "  \\end{array} } \\right]\n",
    "  \\left[ {\\begin{array}{cc}\n",
    "   0 & 1\\\\\n",
    "   Pe & -1\\\\\n",
    "  \\end{array} } \\right] = \n",
    "  \\left[ {\\begin{array}{cc}\n",
    "   1 & \\frac{1}{Pe}(e^{Pex} - 1)\\\\\n",
    "   0 & e^{Pex}\\\\\n",
    "  \\end{array} } \\right]\n",
    "$$"
   ]
  },
  {
   "cell_type": "markdown",
   "metadata": {},
   "source": [
    "Solving via the matrix exponential,\n",
    "\n",
    "$$\\textbf{Y} = e^{Ax}C $$\n",
    "\n",
    "where C is the matrix of initial conditions.\n",
    "\n",
    "$$\\textbf{Y} = \n",
    "  \\left[ {\\begin{array}{cc}\n",
    "   1 & \\frac{1}{Pe}(e^{Pex} - 1)\\\\\n",
    "   0 & e^{Pex}\\\\\n",
    "  \\end{array} } \\right]\n",
    "  \\left[ {\\begin{array}{c}\n",
    "   1\\\\\n",
    "   C_2\\\\\n",
    "  \\end{array} } \\right]\n",
    "$$\n",
    "\n",
    "where $C_2$ is a constant we have to solve for using the second boundary value."
   ]
  },
  {
   "cell_type": "markdown",
   "metadata": {},
   "source": [
    "Writing out the first equation in our solved system of equations:\n",
    "\n",
    "$$C = 1 + \\frac{C_2}{Pe}(e^{Pex} - 1)$$\n",
    "\n",
    "Solving for the constant gives:\n",
    "\n",
    "$$C_2 = \\frac{Pe}{1 - e^{Pe}} $$\n",
    "\n",
    "Plugging in and rearranging gives:\n",
    "\n",
    "$$C = \\frac{e^{Pe} - e^{Pex}}{e^{Pe} - 1} $$"
   ]
  },
  {
   "cell_type": "code",
   "execution_count": null,
   "metadata": {},
   "outputs": [],
   "source": [
    "import matplotlib.pyplot as plt\n",
    "import numpy as np\n",
    "\n",
    "x = np.linspace(0, 1, 101)\n",
    "Pez = [0.01, 0.1, 1, 10, 100]\n",
    "fig, ax = plt.subplots()\n",
    "\n",
    "for i, Pe in enumerate(Pez):\n",
    "    y = (np.exp(Pe) - np.exp(Pe*x))/(np.exp(Pe)-1)\n",
    "    ax.plot(x, y, label = 'Pe = {}'.format(Pe))\n",
    "\n",
    "ax.legend()\n",
    "ax.set_xlabel('x', fontsize=16)\n",
    "ax.set_ylabel('C', fontsize=16)\n"
   ]
  },
  {
   "cell_type": "markdown",
   "metadata": {},
   "source": [
    "# Laplace Integrals"
   ]
  },
  {
   "cell_type": "markdown",
   "metadata": {},
   "source": [
    "The problem\n",
    "\n",
    "$$\\frac{d^2c}{dx^2} - Pe\\frac{dc}{dx} = 0, c(0)=1, c(1)=0$$\n",
    "\n",
    "can be converted to a Laplace integral:\n",
    "\n",
    "$$s^2F(s) - s(1) - \\alpha - Pe [sF(s) - 1] = 0 $$\n",
    "\n",
    "where $\\alpha$ is a constant to be found with the second boundary condition.\n",
    "\n",
    "Rearranging gives:\n",
    "\n",
    "$$F(s) = \\frac{s + \\beta}{s^2 - Pes}, \\beta = \\alpha - Pe $$"
   ]
  },
  {
   "cell_type": "markdown",
   "metadata": {},
   "source": [
    "Separating the denominator gives:\n",
    "\n",
    "$$F(s) = \\frac{1 + \\gamma}{s - Pe} - \\frac{\\gamma}{s}, \\gamma = \\frac{\\beta}{Pe} = \\frac{\\alpha - Pe}{Pe} $$\n",
    "\n",
    "Using the inverse Laplace transform gives:\n",
    "\n",
    "$$c = (1+\\gamma)e^{Pex} - \\gamma$$\n",
    "\n",
    "Plugging in the boundary condition c(1) = 0 and solving for $\\gamma$ gives:\n",
    "\n",
    "$$\\gamma = \\frac{e^{Pe}}{1 - e^{Pe}}$$\n",
    "\n",
    "Substituting gives the final solution for c:\n",
    "\n",
    "$$c = \\frac{e^{Pe} - e^{Pex}}{e^{Pe} - 1} $$\n",
    "\n",
    "which is what we found with the previous method. Sanity check!"
   ]
  },
  {
   "cell_type": "markdown",
   "metadata": {},
   "source": [
    "# Numerical methods: Euler forward"
   ]
  },
  {
   "cell_type": "markdown",
   "metadata": {},
   "source": [
    "First, we need to express the second order differential equation as a system of two first order equations:\n",
    "\n",
    "$$Y_1 = c, Y_2 = \\frac{dc}{dx}$$ <br>\n",
    "$$(1) \\frac{dc}{dx} = Y_2 $$ <br>\n",
    "$$(2) \\frac{d^2c}{dx^2} = PeY_2$$\n",
    "\n",
    "The solution using Euler forward for this set of equations can be expressed as:\n",
    "\n",
    "$$Y_1^{k+1} = Y_1^k + \\Delta t Y_2^k$$ <br>\n",
    "$$Y_2^{k+1} = Y_2^k + \\Delta t PeY_2^k$$\n",
    "\n",
    "To solve this system of equations, we need to know the initial conditions for both $Y_1$ and $Y_2$. We only have the initial condition for $Y_1$. The other boundary condition is the final value of $Y_1$. We will need to make an initial guess of $Y_2(0)$, integrate, and update our answer until $Y_1(1) = 0$"
   ]
  },
  {
   "cell_type": "code",
   "execution_count": 3,
   "metadata": {},
   "outputs": [
    {
     "name": "stdout",
     "output_type": "stream",
     "text": [
      "0.01\n",
      "Converged in 3 loops\n",
      "0.1\n",
      "Converged in 3 loops\n",
      "1\n",
      "Converged in 3 loops\n",
      "10\n",
      "Converged in 3 loops\n",
      "100\n",
      "Converged in 5 loops\n"
     ]
    },
    {
     "data": {
      "text/plain": [
       "Text(0,0.5,'C')"
      ]
     },
     "execution_count": 3,
     "metadata": {},
     "output_type": "execute_result"
    },
    {
     "data": {
      "image/png": "[encoded data removed]",
      "text/plain": [
       "<Figure size 432x288 with 1 Axes>"
      ]
     },
     "metadata": {
      "needs_background": "light"
     },
     "output_type": "display_data"
    }
   ],
   "source": [
    "# Boundary conditions:\n",
    "y0 = 1\n",
    "yf = 0\n",
    "\n",
    "# Initial guess for dcdx:\n",
    "\n",
    "x = np.linspace(0, 1, 101)\n",
    "dt = x[1]\n",
    "Pez = [0.01, 0.1, 1, 10, 100]\n",
    "fig, ax = plt.subplots()\n",
    "\n",
    "for Pe in Pez:\n",
    "    print(Pe)\n",
    "    tol = 1000\n",
    "    counter = 0\n",
    "    yp0a = 0.5\n",
    "    yp0b = 0.4\n",
    "    while tol > 0.01:\n",
    "        ya = np.zeros(101)\n",
    "        yb = np.zeros(101)\n",
    "        ypa = np.zeros(101)\n",
    "        ypb = np.zeros(101)\n",
    "\n",
    "        ypa[0] = yp0a\n",
    "        ypb[0] = yp0b\n",
    "        ya[0] = y0\n",
    "        yb[0] = y0\n",
    "\n",
    "        for i, yi in enumerate(ya):\n",
    "            if i == 0:\n",
    "                pass\n",
    "            else:\n",
    "                ypa[i] = ypa[i-1] + dt*Pe*ypa[i-1]\n",
    "                ya[i] = ya[i-1] + dt*ypa[i-1]\n",
    "\n",
    "                ypb[i] = ypb[i-1] + dt*Pe*ypb[i-1]\n",
    "                yb[i] = yb[i-1] + dt*ypb[i-1]\n",
    "\n",
    "        tol = (ya[-1] - yf)**2\n",
    "        m = (ya[-1] - yb[-1])/(yp0a - yp0b)\n",
    "        b = ya[-1] - m*yp0a\n",
    "        yp0a = yp0b\n",
    "        yp0b = -b/m\n",
    "        counter += 1\n",
    "    print('Converged in {} loops'.format(counter))\n",
    "    \n",
    "    ax.plot(x, ya, label = 'Pe = {}'.format(Pe))\n",
    "\n",
    "ax.legend()\n",
    "ax.set_xlabel('x', fontsize=16)\n",
    "ax.set_ylabel('C', fontsize=16)"
   ]
  },
  {
   "cell_type": "markdown",
   "metadata": {},
   "source": [
    "# Numerical methods: Scipy's odeint"
   ]
  },
  {
   "cell_type": "markdown",
   "metadata": {},
   "source": [
    "Scipy has a built-in ODE solver `odeint`. We will still need to iterate, as `odeint` requires our boundary conditions to be in the form of initial conditions. Similar to the Euler forward method, we will need to express our second-order ODE in terms of a system of two first-order ODEs.\n",
    "\n",
    "`odeint` requires the user to express the system of ODEs in the form of a function that outputs of list. Our function will outout:\n",
    "\n",
    "$$[Y_2, PeY_2]$$,\n",
    "\n",
    "the right-hand side of our system of first-order differential equations.\n",
    "\n",
    "Note that there seems to be some limitations in our ability to solve the system of equations for high values of Pe. `odeint` breaks when Pe > 45."
   ]
  },
  {
   "cell_type": "code",
   "execution_count": 116,
   "metadata": {},
   "outputs": [],
   "source": [
    "from scipy.integrate import odeint, ode\n",
    "import numpy as np\n",
    "import matplotlib.pyplot as plt"
   ]
  },
  {
   "cell_type": "code",
   "execution_count": null,
   "metadata": {},
   "outputs": [],
   "source": [
    "Pe = 1\n",
    "\n",
    "def dU_dx(U, x):\n",
    "    \n",
    "    return [U[1], Pe*U[1]]\n",
    "\n",
    "\n",
    "yf = 0\n",
    "\n",
    "x = np.linspace(0, 1, 101)\n",
    "sola = odeint(dU_dx, U0a, x)\n",
    "ya = sola[:, 0]\n",
    "solb = odeint(dU_dx, U0b, x)\n",
    "yb = solb[:, 0]"
   ]
  },
  {
   "cell_type": "code",
   "execution_count": 5,
   "metadata": {},
   "outputs": [
    {
     "name": "stdout",
     "output_type": "stream",
     "text": [
      "0.01\n",
      "Converged in 3 loops\n",
      "0.1\n",
      "Converged in 3 loops\n",
      "1\n",
      "Converged in 4 loops\n",
      "10\n",
      "Converged in 4 loops\n",
      "40\n",
      "Converged in 5 loops\n"
     ]
    },
    {
     "data": {
      "text/plain": [
       "Text(0,0.5,'C')"
      ]
     },
     "execution_count": 5,
     "metadata": {},
     "output_type": "execute_result"
    },
    {
     "data": {
      "image/png": "[encoded data removed]",
      "text/plain": [
       "<Figure size 432x288 with 1 Axes>"
      ]
     },
     "metadata": {
      "needs_background": "light"
     },
     "output_type": "display_data"
    }
   ],
   "source": [
    "# Breaks if Pe exceeds 45\n",
    "yf = 0\n",
    "x = np.linspace(0, 1, 1001)\n",
    "def dU_dx(U, x):\n",
    "    \n",
    "    return [U[1], Pe*U[1]]\n",
    "\n",
    "Pez = [0.01, 0.1, 1, 10, 40]\n",
    "fig, ax = plt.subplots()\n",
    "\n",
    "\n",
    "for Pe in Pez:\n",
    "    print(Pe)\n",
    "    tol = 1000\n",
    "    counter = 0\n",
    "    yp0a = -10**(-16)\n",
    "    yp0b = -2*10**(-10)\n",
    "    while tol > 0.001:\n",
    "        U0a = [1, yp0a]\n",
    "        U0b = [1, yp0b]\n",
    "        sola = odeint(dU_dx, U0a, x)\n",
    "        ya = sola[:, 0]\n",
    "        solb = odeint(dU_dx, U0b, x)\n",
    "        yb = solb[:, 0]\n",
    "\n",
    "        tol = (ya[-1] - yf)**2\n",
    "        #print(tol)\n",
    "        m = (ya[-1] - yb[-1])/(yp0a - yp0b)\n",
    "        b = ya[-1] - m*yp0a\n",
    "        yp0a = yp0b\n",
    "        yp0b = -b/m\n",
    "        counter += 1\n",
    "        if counter > 40:\n",
    "            break\n",
    "    print('Converged in {} loops'.format(counter))\n",
    "    \n",
    "    ax.plot(x, ya, label = 'Pe = {}'.format(Pe))\n",
    "\n",
    "ax.legend()\n",
    "ax.set_xlabel('x', fontsize=16)\n",
    "ax.set_ylabel('C', fontsize=16)"
   ]
  },
  {
   "cell_type": "markdown",
   "metadata": {},
   "source": [
    "# Numerical methods: Scipy's ode"
   ]
  },
  {
   "cell_type": "markdown",
   "metadata": {},
   "source": [
    "Scipy provide's users with a number of alternate ODE solvers in the class of functions in `ode`. The function `odeint` is a utility function that only uses one type of solver (known as lsoda). `ode` is a little more difficult to use, but we will write a wrapper function so that we can implement it in a similar fashion to `odeint`. "
   ]
  },
  {
   "cell_type": "code",
   "execution_count": 164,
   "metadata": {},
   "outputs": [],
   "source": [
    "# t1 = 1\n",
    "# t0 = 0\n",
    "# x = np.linspace(0, 1, 101)\n",
    "# U0a = [1, -1]\n",
    "# Pe = 1\n",
    "\n",
    "## Alternate solvers using integrate.ode:\n",
    "\n",
    "#name = 'lsoda',\n",
    "#name = 'dopri5'\n",
    "#name = 'dop853'\n",
    "#name = 'vode', method = 'adams'\n",
    "#name = 'vode', method = 'bdf'\n",
    "\n",
    "#All methods seem to fail except for dopri5 when using large Pe.\n",
    "\n",
    "def dU_dx(x, U):\n",
    "    \n",
    "    return [U[1], Pe*U[1]]\n",
    "\n",
    "def ode_wrapper(dU_dx, U0, x):\n",
    "    t1 = x[-1]\n",
    "    dt = x[1]\n",
    "    t = [t0]\n",
    "    solver = ode(dU_dx)\n",
    "    solver.set_integrator('dopri5', nsteps=10**5)\n",
    "    solver.set_initial_value(U0, x[0])\n",
    "\n",
    "    y = np.zeros(x.shape)\n",
    "    y[0] = U0[0]\n",
    "           \n",
    "    counter = 0\n",
    "    while solver.successful() and solver.t < t1:\n",
    "        t.append(solver.t + dt)\n",
    "        Unext = solver.integrate(solver.t + dt)\n",
    "        y[counter+1] = Unext[0]\n",
    "        #print(counter)\n",
    "        counter += 1\n",
    "        \n",
    "    return y"
   ]
  },
  {
   "cell_type": "code",
   "execution_count": 168,
   "metadata": {},
   "outputs": [
    {
     "name": "stdout",
     "output_type": "stream",
     "text": [
      "0.01\n",
      "0.1\n",
      "1\n",
      "10\n",
      "100\n"
     ]
    },
    {
     "name": "stderr",
     "output_type": "stream",
     "text": [
      "C:\\Users\\koolk\\Anaconda3\\lib\\site-packages\\ipykernel_launcher.py:25: RuntimeWarning: invalid value encountered in double_scalars\n"
     ]
    },
    {
     "data": {
      "text/plain": [
       "Text(0,0.5,'C')"
      ]
     },
     "execution_count": 168,
     "metadata": {},
     "output_type": "execute_result"
    },
    {
     "data": {
      "image/png": "[encoded data removed]",
      "text/plain": [
       "<Figure size 432x288 with 1 Axes>"
      ]
     },
     "metadata": {
      "needs_background": "light"
     },
     "output_type": "display_data"
    }
   ],
   "source": [
    "# Breaks if Pe exceeds 45\n",
    "yf = 0\n",
    "x = np.linspace(0, 1, 101)\n",
    "\n",
    "Pez = [0.01, 0.1, 1, 10, 100]\n",
    "fig, ax = plt.subplots()\n",
    "\n",
    "\n",
    "for Pe in Pez:\n",
    "    print(Pe)\n",
    "    tol = 1000\n",
    "    counter = 0\n",
    "    yp0a = -0.8\n",
    "    yp0b = -1.0\n",
    "    while tol > 0.0001:\n",
    "        U0a = [1, yp0a]\n",
    "        U0b = [1, yp0b]\n",
    "        sola = ode_wrapper(dU_dx, U0a, x)\n",
    "        ya = sola\n",
    "        solb = ode_wrapper(dU_dx, U0b, x)\n",
    "        yb = solb\n",
    "\n",
    "        tol = (ya[-1] - yf)**2\n",
    "        #print(tol)\n",
    "        m = (ya[-1] - yb[-1])/(yp0a - yp0b)\n",
    "        b = ya[-1] - m*yp0a\n",
    "        yp0a = yp0b\n",
    "        yp0b = -b/m\n",
    "        counter += 1\n",
    "        if counter > 40:\n",
    "            break\n",
    "    #print('Converged in {} loops'.format(counter))\n",
    "    \n",
    "    ax.plot(x, ya, label = 'Pe = {}'.format(Pe))\n",
    "\n",
    "ax.legend()\n",
    "ax.set_xlabel('x', fontsize=16)\n",
    "ax.set_ylabel('C', fontsize=16)"
   ]
  },
  {
   "cell_type": "code",
   "execution_count": null,
   "metadata": {},
   "outputs": [],
   "source": []
  }
 ],
 "metadata": {
  "kernelspec": {
   "display_name": "Python 3",
   "language": "python",
   "name": "python3"
  },
  "language_info": {
   "codemirror_mode": {
    "name": "ipython",
    "version": 3
   },
   "file_extension": ".py",
   "mimetype": "text/x-python",
   "name": "python",
   "nbconvert_exporter": "python",
   "pygments_lexer": "ipython3",
   "version": "3.7.0"
  }
 },
 "nbformat": 4,
 "nbformat_minor": 2
}
